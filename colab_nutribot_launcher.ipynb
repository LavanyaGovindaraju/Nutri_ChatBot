{
  "cells": [
    {
      "cell_type": "code",
      "execution_count": null,
      "metadata": {
        "id": "MbC0ypSHbhRH"
      },
      "outputs": [],
      "source": [
        "!git clone https://github.com/LavanyaGovindaraju/Nutri_ChatBot.git"
      ]
    },
    {
      "cell_type": "code",
      "execution_count": null,
      "metadata": {},
      "outputs": [],
      "source": [
        "%cd /content/Nutri_ChatBot"
      ]
    },
    {
      "cell_type": "code",
      "execution_count": null,
      "metadata": {},
      "outputs": [],
      "source": [
        "!pip install -r requirements.txt"
      ]
    },
    {
      "cell_type": "code",
      "execution_count": null,
      "metadata": {
        "colab": {
          "base_uri": "https://localhost:8080/"
        },
        "id": "K8PO4-7LRUDH",
        "outputId": "44a80ca9-5da6-4182-877b-99a57423a2c2"
      },
      "outputs": [
        {
          "name": "stdout",
          "output_type": "stream",
          "text": [
            "Enter your HF token: ··········\n"
          ]
        }
      ],
      "source": [
        "import getpass\n",
        "from huggingface_hub import login\n",
        "\n",
        "login(getpass.getpass(\"Enter your HF token for LLM Models: \"))\n"
      ]
    },
    {
      "cell_type": "code",
      "execution_count": null,
      "metadata": {
        "colab": {
          "base_uri": "https://localhost:8080/"
        },
        "id": "xxMt1l1JdAuX",
        "outputId": "1763ab64-4082-44a9-b18d-3eb4d9e90ccc"
      },
      "outputs": [],
      "source": [
        "# 1. Run Streamlit\n",
        "!streamlit run app.py &>/content/logs.txt &"
      ]
    },
    {
      "cell_type": "code",
      "execution_count": null,
      "metadata": {
        "id": "hPk0B-3rV6pZ"
      },
      "outputs": [],
      "source": [
        "import os\n",
        "# Ngrok token\n",
        "ngrok_token = input(\"🔐 Enter your ngrok auth token: \").strip()\n",
        "os.environ[\"NGROK_AUTH_TOKEN\"] = ngrok_token\n",
        "\n",
        "from pyngrok import ngrok\n",
        "ngrok.set_auth_token(ngrok_token)\n",
        "\n",
        "import time\n",
        "time.sleep(3)\n",
        "ngrok.kill()  # clean up all previous tunnels\n",
        "\n",
        "# Get public URL\n",
        "public_url = ngrok.connect(8501)\n",
        "print(\"🚀 NutriBot is live at:\", public_url)"
      ]
    }
  ],
  "metadata": {
    "accelerator": "GPU",
    "colab": {
      "gpuType": "T4",
      "provenance": []
    },
    "kernelspec": {
      "display_name": "Python 3",
      "name": "python3"
    },
    "language_info": {
      "name": "python"
    }
  },
  "nbformat": 4,
  "nbformat_minor": 0
}
